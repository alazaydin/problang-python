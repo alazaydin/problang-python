{
 "cells": [
  {
   "cell_type": "markdown",
   "metadata": {},
   "source": [
    "## Language Understanding as Bayesian Inference\n"
   ]
  },
  {
   "cell_type": "markdown",
   "metadata": {},
   "source": [
    "A set of world states (states of affairs, SOAs) that a set of utterances which can be used to refer to.\n",
    "$$S = \\{\\text{blue-square}, \\text{blue-circle}, \\text{green-square}\\}$$\n",
    "$$U = \\{ \\text{\"square\"}, \\text{\"circle\"}, \\text{\"green\"}, \\text{\"blue\"}\\}$$"
   ]
  },
  {
   "cell_type": "code",
   "execution_count": 216,
   "metadata": {},
   "outputs": [],
   "source": [
    "import numpy as np\n",
    "import pandas as pd\n",
    "import pymc as pm\n",
    "import pytensor.tensor as pt\n",
    "import arviz as az\n",
    "import matplotlib.pyplot as plt"
   ]
  },
  {
   "cell_type": "markdown",
   "metadata": {},
   "source": [
    "The vanilla RSA is given below. Each level and term is introduced, from $L_0$ up.\n",
    "$$P_{L_1}(s \\mid u) \\propto P_{S_{1}}(u \\mid s) \\cdot P(s)\\$$\n",
    "$$\\downarrow$$\n",
    "$$P_{S_1}(u \\mid s) \\propto \\exp(\\alpha U_{S_1}(u;s))\\$$\n",
    "$$\\downarrow$$\n",
    "$$P_{L_{0}}(s\\mid u) \\propto [\\![u]\\!](s) \\cdot P(s)$$\n"
   ]
  },
  {
   "cell_type": "markdown",
   "metadata": {},
   "source": [
    "### Literal Listeners\n",
    "\n",
    "$P_{L_{0}}(s\\mid u) \\propto [\\![u]\\!](s) \\cdot P(s)$\n",
    "- $P_{L_{0}}(s\\mid u)$: probability of inferring state $s$, given utterance $u$\n",
    "- $[\\![u]\\!] \\colon S \\mapsto \\{0,1\\}$: the denotation function\n",
    "- $P(s)$: prior probability (belief) of observing states\n",
    "    - general world knowledge\n",
    "    - perceptual salience\n",
    "    - distance from listener/speaker\n",
    "    - presence of joint attention\n",
    "\n",
    "Then, a literal listener encodes mapping from utterances to world states: $P_{L_{0}} \\colon U \\mapsto \\Delta^S$."
   ]
  },
  {
   "cell_type": "code",
   "execution_count": 217,
   "metadata": {},
   "outputs": [],
   "source": [
    "def normalize(x, axis):\n",
    "    return x / x.sum(axis=axis, keepdims=True)"
   ]
  },
  {
   "cell_type": "code",
   "execution_count": 218,
   "metadata": {},
   "outputs": [
    {
     "data": {
      "text/html": [
       "<div>\n",
       "<style scoped>\n",
       "    .dataframe tbody tr th:only-of-type {\n",
       "        vertical-align: middle;\n",
       "    }\n",
       "\n",
       "    .dataframe tbody tr th {\n",
       "        vertical-align: top;\n",
       "    }\n",
       "\n",
       "    .dataframe thead th {\n",
       "        text-align: right;\n",
       "    }\n",
       "</style>\n",
       "<table border=\"1\" class=\"dataframe\">\n",
       "  <thead>\n",
       "    <tr style=\"text-align: right;\">\n",
       "      <th></th>\n",
       "      <th>blue square</th>\n",
       "      <th>blue circle</th>\n",
       "      <th>green square</th>\n",
       "    </tr>\n",
       "  </thead>\n",
       "  <tbody>\n",
       "    <tr>\n",
       "      <th>blue</th>\n",
       "      <td>0.5</td>\n",
       "      <td>0.5</td>\n",
       "      <td>0.0</td>\n",
       "    </tr>\n",
       "    <tr>\n",
       "      <th>green</th>\n",
       "      <td>0.0</td>\n",
       "      <td>0.0</td>\n",
       "      <td>1.0</td>\n",
       "    </tr>\n",
       "    <tr>\n",
       "      <th>square</th>\n",
       "      <td>0.5</td>\n",
       "      <td>0.0</td>\n",
       "      <td>0.5</td>\n",
       "    </tr>\n",
       "    <tr>\n",
       "      <th>circle</th>\n",
       "      <td>0.0</td>\n",
       "      <td>1.0</td>\n",
       "      <td>0.0</td>\n",
       "    </tr>\n",
       "  </tbody>\n",
       "</table>\n",
       "</div>"
      ],
      "text/plain": [
       "        blue square  blue circle  green square\n",
       "blue            0.5          0.5           0.0\n",
       "green           0.0          0.0           1.0\n",
       "square          0.5          0.0           0.5\n",
       "circle          0.0          1.0           0.0"
      ]
     },
     "execution_count": 218,
     "metadata": {},
     "output_type": "execute_result"
    }
   ],
   "source": [
    "objects = [\"blue square\", \"blue circle\", \"green square\"]\n",
    "utterances = [\"blue\", \"green\", \"square\", \"circle\"]\n",
    "\n",
    "def meaning(u, o):\n",
    "    return float(u in o)\n",
    "def denotation(u, s):\n",
    "    return np.array([meaning(u, o) for o in s])\n",
    "\n",
    "us = np.array([denotation(utr, objects) for utr in utterances])\n",
    "\n",
    "l0 = normalize(us, 1)\n",
    "pd.DataFrame(l0, columns=objects, index=utterances)"
   ]
  },
  {
   "cell_type": "code",
   "execution_count": 219,
   "metadata": {},
   "outputs": [
    {
     "data": {
      "text/plain": [
       "array([1., 1., 0.])"
      ]
     },
     "execution_count": 219,
     "metadata": {},
     "output_type": "execute_result"
    }
   ],
   "source": [
    "denotation(\"blue\",objects)"
   ]
  },
  {
   "cell_type": "code",
   "execution_count": 220,
   "metadata": {},
   "outputs": [
    {
     "name": "stderr",
     "output_type": "stream",
     "text": [
      "Sampling: [L0, prior]\n",
      "Sampling: [L0, prior]\n",
      "Sampling: [L0, prior]\n",
      "Sampling: [L0, prior]\n"
     ]
    },
    {
     "data": {
      "image/png": "[encoded data removed]",
      "text/plain": [
       "<Figure size 1000x200 with 4 Axes>"
      ]
     },
     "metadata": {},
     "output_type": "display_data"
    }
   ],
   "source": [
    "fig, ax = plt.subplots(1, len(utterances), sharey=True, figsize=(10,2))\n",
    "p_vals = np.zeros((len(utterances), len(objects))) * np.nan\n",
    "n_samples = 4000\n",
    "# for each possible utterance\n",
    "for iu, u_in in enumerate(utterances):\n",
    "    # create a model that returns state inference probabilities\n",
    "    with pm.Model() as m:\n",
    "        # prior over objects\n",
    "        \n",
    "        # TODO: make it work with categorical\n",
    "\n",
    "        # Categorical\n",
    "        # prior_s = pm.Categorical('prior', p=np.repeat(1/len(objects), len(objects)))\n",
    "        # u_s = pm.Deterministic('denotation', denotation(u_in, objects) * (prior_s + 1))\n",
    "        \n",
    "        # Categorical - biased\n",
    "        # prior_s = pm.Categorical('prior', p=np.array([0.01, 0.01, 0.98]))\n",
    "        # u_s = pm.Deterministic('denotation', denotation(u_in, objects) * (prior_s + 1))\n",
    "\n",
    "        # Dirichlet\n",
    "        prior_s = pm.Dirichlet('prior', a=np.repeat(1, len(objects)))\n",
    "        # prior_s = pm.Dirichlet('prior', a=np.array([1, 1, 8]))\n",
    "        u_s = pm.Deterministic('denotation', denotation(u_in, objects) * prior_s)\n",
    "        \n",
    "        # L0\n",
    "        pm.Categorical('L0',\n",
    "                    p=normalize(u_s, axis=0))\n",
    "        idata = pm.sample_prior_predictive(samples=n_samples)\n",
    "\n",
    "    category_vals = idata.prior.L0.stack(samples=('chain','draw'))\n",
    "    cat, count = np.unique(category_vals, return_counts=True)\n",
    "\n",
    "    for ic, c in enumerate(cat):\n",
    "        p_vals[iu, c] = count[ic] / n_samples\n",
    "    \n",
    "    ax[iu].bar(cat, count/n_samples)\n",
    "    ax[iu].set_title(u_in)\n",
    "    ax[iu].set_ylim([0,1])\n",
    "    ax[iu].set_xticks(np.arange(len(objects)))\n",
    "    ax[iu].set_xlim([-1, len(objects)])\n",
    "    ax[iu].tick_params(axis=\"x\", labelrotation=45)\n",
    "    ax[iu].set_xticklabels(objects);"
   ]
  },
  {
   "cell_type": "code",
   "execution_count": 221,
   "metadata": {},
   "outputs": [
    {
     "data": {
      "image/svg+xml": [
       "<?xml version=\"1.0\" encoding=\"UTF-8\" standalone=\"no\"?>\n",
       "<!DOCTYPE svg PUBLIC \"-//W3C//DTD SVG 1.1//EN\"\n",
       " \"http://www.w3.org/Graphics/SVG/1.1/DTD/svg11.dtd\">\n",
       "<!-- Generated by graphviz version 12.0.0 (0)\n",
       " -->\n",
       "<!-- Pages: 1 -->\n",
       "<svg width=\"130pt\" height=\"321pt\"\n",
       " viewBox=\"0.00 0.00 130.00 320.63\" xmlns=\"http://www.w3.org/2000/svg\" xmlns:xlink=\"http://www.w3.org/1999/xlink\">\n",
       "<g id=\"graph0\" class=\"graph\" transform=\"scale(1 1) rotate(0) translate(4 316.63)\">\n",
       "<polygon fill=\"white\" stroke=\"none\" points=\"-4,4 -4,-316.63 126,-316.63 126,4 -4,4\"/>\n",
       "<g id=\"clust1\" class=\"cluster\">\n",
       "<title>cluster3</title>\n",
       "<path fill=\"none\" stroke=\"black\" d=\"M20,-89.32C20,-89.32 102,-89.32 102,-89.32 108,-89.32 114,-95.32 114,-101.32 114,-101.32 114,-292.63 114,-292.63 114,-298.63 108,-304.63 102,-304.63 102,-304.63 20,-304.63 20,-304.63 14,-304.63 8,-298.63 8,-292.63 8,-292.63 8,-101.32 8,-101.32 8,-95.32 14,-89.32 20,-89.32\"/>\n",
       "<text text-anchor=\"middle\" x=\"102.62\" y=\"-96.52\" font-family=\"Times,serif\" font-size=\"14.00\">3</text>\n",
       "</g>\n",
       "<!-- denotation -->\n",
       "<g id=\"node1\" class=\"node\">\n",
       "<title>denotation</title>\n",
       "<polygon fill=\"none\" stroke=\"black\" points=\"106.12,-179.32 15.88,-179.32 15.88,-121.82 106.12,-121.82 106.12,-179.32\"/>\n",
       "<text text-anchor=\"middle\" x=\"61\" y=\"-162.02\" font-family=\"Times,serif\" font-size=\"14.00\">denotation</text>\n",
       "<text text-anchor=\"middle\" x=\"61\" y=\"-145.52\" font-family=\"Times,serif\" font-size=\"14.00\">~</text>\n",
       "<text text-anchor=\"middle\" x=\"61\" y=\"-129.02\" font-family=\"Times,serif\" font-size=\"14.00\">Deterministic</text>\n",
       "</g>\n",
       "<!-- L0 -->\n",
       "<g id=\"node3\" class=\"node\">\n",
       "<title>L0</title>\n",
       "<ellipse fill=\"none\" stroke=\"black\" cx=\"61\" cy=\"-40.66\" rx=\"55.33\" ry=\"40.66\"/>\n",
       "<text text-anchor=\"middle\" x=\"61\" y=\"-52.11\" font-family=\"Times,serif\" font-size=\"14.00\">L0</text>\n",
       "<text text-anchor=\"middle\" x=\"61\" y=\"-35.61\" font-family=\"Times,serif\" font-size=\"14.00\">~</text>\n",
       "<text text-anchor=\"middle\" x=\"61\" y=\"-19.11\" font-family=\"Times,serif\" font-size=\"14.00\">Categorical</text>\n",
       "</g>\n",
       "<!-- denotation&#45;&gt;L0 -->\n",
       "<g id=\"edge2\" class=\"edge\">\n",
       "<title>denotation&#45;&gt;L0</title>\n",
       "<path fill=\"none\" stroke=\"black\" d=\"M61,-121.5C61,-112.79 61,-102.9 61,-93.13\"/>\n",
       "<polygon fill=\"black\" stroke=\"black\" points=\"64.5,-93.29 61,-83.29 57.5,-93.29 64.5,-93.29\"/>\n",
       "</g>\n",
       "<!-- prior -->\n",
       "<g id=\"node2\" class=\"node\">\n",
       "<title>prior</title>\n",
       "<ellipse fill=\"none\" stroke=\"black\" cx=\"61\" cy=\"-255.98\" rx=\"45.25\" ry=\"40.66\"/>\n",
       "<text text-anchor=\"middle\" x=\"61\" y=\"-267.43\" font-family=\"Times,serif\" font-size=\"14.00\">prior</text>\n",
       "<text text-anchor=\"middle\" x=\"61\" y=\"-250.93\" font-family=\"Times,serif\" font-size=\"14.00\">~</text>\n",
       "<text text-anchor=\"middle\" x=\"61\" y=\"-234.43\" font-family=\"Times,serif\" font-size=\"14.00\">Dirichlet</text>\n",
       "</g>\n",
       "<!-- prior&#45;&gt;denotation -->\n",
       "<g id=\"edge1\" class=\"edge\">\n",
       "<title>prior&#45;&gt;denotation</title>\n",
       "<path fill=\"none\" stroke=\"black\" d=\"M61,-215C61,-207.15 61,-198.91 61,-191.08\"/>\n",
       "<polygon fill=\"black\" stroke=\"black\" points=\"64.5,-191.11 61,-181.11 57.5,-191.11 64.5,-191.11\"/>\n",
       "</g>\n",
       "</g>\n",
       "</svg>\n"
      ],
      "text/plain": [
       "<graphviz.graphs.Digraph at 0x1347b3d70>"
      ]
     },
     "execution_count": 221,
     "metadata": {},
     "output_type": "execute_result"
    }
   ],
   "source": [
    "pm.model_to_graphviz(m)"
   ]
  },
  {
   "cell_type": "code",
   "execution_count": 222,
   "metadata": {},
   "outputs": [
    {
     "data": {
      "text/plain": [
       "array([[0.5005 , 0.4995 ,     nan],\n",
       "       [    nan,     nan, 1.     ],\n",
       "       [0.50075,     nan, 0.49925],\n",
       "       [    nan, 1.     ,     nan]])"
      ]
     },
     "execution_count": 222,
     "metadata": {},
     "output_type": "execute_result"
    }
   ],
   "source": [
    "p_vals"
   ]
  },
  {
   "cell_type": "markdown",
   "metadata": {},
   "source": [
    "#### Softmax Decisions"
   ]
  },
  {
   "cell_type": "markdown",
   "metadata": {},
   "source": [
    "$$P(a_i) = \\frac{\\exp(\\alpha \\cdot \\text{Util}(a_i))}{\\sum_{j} \\exp(\\alpha \\cdot \\text{Util}(a_j))}$$"
   ]
  },
  {
   "cell_type": "code",
   "execution_count": 223,
   "metadata": {},
   "outputs": [
    {
     "data": {
      "image/png": "[encoded data removed]",
      "text/plain": [
       "<Figure size 640x480 with 3 Axes>"
      ]
     },
     "metadata": {},
     "output_type": "display_data"
    }
   ],
   "source": [
    "def softmax(alpha, vals):\n",
    "    # return np.exp(alpha * vals) / np.sum(np.exp(alpha*vals))\n",
    "    return normalize(np.exp(alpha * vals), 0)\n",
    "\n",
    "alphas = [0.1, 1, 10]\n",
    "fig, ax = plt.subplots(1,3, sharey=True)\n",
    "for i in range(3):\n",
    "    ax[i].set_ylim([0,1])\n",
    "    ax[i].bar(np.arange(3),softmax(alphas[i], np.array([-1, 6, 8])))\n",
    "    ax[i].set_xticks(np.arange(3))\n",
    "    ax[i].set_xticklabels(['a1','a2','a3'])\n",
    "    ax[i].set_title(r'$\\alpha=$' + str(alphas[i]))\n",
    "plt.tight_layout()"
   ]
  },
  {
   "cell_type": "markdown",
   "metadata": {},
   "source": [
    "### Speaker 1\n",
    "\n",
    "Bayesian decision making based on a utility function:\n",
    "$$U_{S_{1}}(u; s) = \\log P_{L_{0}}(s\\mid u) - C(u)$$\n",
    "- Utility maximization = surprisal minimization and cost minimization\n",
    "- Surprise: $-log(p)$, high if evidence has a low probability of being observed\n",
    "- another interpretation: amount of information gain by observing a particular sample from a known distribution\n",
    "- another one: decreasing the KL-divergence between speaker's and listener's distributions\n",
    "\n",
    "The speaker utterance probabilities for an intended referent:\n",
    "$$P_{S_1}(u \\mid s) \\propto \\exp(\\alpha (\\log P_{L_{0}}(s\\mid u) - C(u)))\\$$"
   ]
  },
  {
   "cell_type": "code",
   "execution_count": null,
   "metadata": {},
   "outputs": [
    {
     "data": {
      "text/plain": [
       "array([[0],\n",
       "       [0],\n",
       "       [0],\n",
       "       [0]])"
      ]
     },
     "execution_count": 224,
     "metadata": {},
     "output_type": "execute_result"
    }
   ],
   "source": [
    "# set costs to zero for now\n",
    "def cost(u):\n",
    "    cost_dict = dict(zip(utterances, np.repeat(0, len(utterances))))\n",
    "    return cost_dict[u]\n",
    "\n",
    "cost_vec = np.array([cost(u) for u in utterances]).reshape(len(utterances), 1)\n",
    "cost_vec"
   ]
  },
  {
   "cell_type": "code",
   "execution_count": null,
   "metadata": {},
   "outputs": [],
   "source": [
    "def vanilla_rsa(tau_S, l0):\n",
    "    \"\"\"Vanilla RSA with 1 iteration over literals: a speaker and a pragmatic listener.\n",
    "    Args:\n",
    "    - tau_S: speaker's rationality (optimality)\n",
    "    - l0: denotation mapping\n",
    "    Returns:\n",
    "    idata with prior predictives on two categorical distributions\n",
    "    - S1: speaker\n",
    "    - L1: pragmatic listener\n",
    "    \"\"\"\n",
    "    with pm.Model() as m_RSA:\n",
    "        \n",
    "        # P_S1(u|P_L0)\n",
    "        S1 = pm.Deterministic(\n",
    "            'S1',\n",
    "            normalize(\n",
    "                pt.exp(\n",
    "                    tau_S * (\n",
    "                        pt.log(l0) - cost_vec\n",
    "                    )                    \n",
    "                ),\n",
    "                0\n",
    "            )\n",
    "        )\n",
    "\n",
    "        L1 = pm.Deterministic(\n",
    "            'L1',\n",
    "            normalize(\n",
    "                S1,\n",
    "                1\n",
    "            )\n",
    "        )\n",
    "        \n",
    "        pm.Categorical('pL1',\n",
    "                        p=L1)\n",
    "        \n",
    "        idata = pm.sample_prior_predictive()\n",
    "    \n",
    "        return idata"
   ]
  },
  {
   "cell_type": "code",
   "execution_count": 226,
   "metadata": {},
   "outputs": [],
   "source": [
    "def RSA_pTables(alpha, l0):\n",
    "    idata = vanilla_rsa(alpha, l0)\n",
    "    # literal listener\n",
    "    print(\"L0\")\n",
    "    print(pd.DataFrame(l0, columns=objects, index=utterances))\n",
    "    # speaker\n",
    "    S1_ = idata.prior.S1.stack(samples=(\"chain\", \"draw\")).mean(axis=2).T.values\n",
    "    print(\"S1\")\n",
    "    print(pd.DataFrame(S1_, columns=utterances, index=objects))\n",
    "    # pragmatic listener\n",
    "    L1_ = idata.prior.L1.stack(samples=(\"chain\", \"draw\")).mean(axis=2)\n",
    "    print(\"L1\")\n",
    "    print(pd.DataFrame(L1_, columns=objects, index=utterances))"
   ]
  },
  {
   "cell_type": "code",
   "execution_count": 227,
   "metadata": {},
   "outputs": [
    {
     "name": "stderr",
     "output_type": "stream",
     "text": [
      "Sampling: [pL1]\n"
     ]
    },
    {
     "name": "stdout",
     "output_type": "stream",
     "text": [
      "L0\n",
      "        blue square  blue circle  green square\n",
      "blue            0.5          0.5           0.0\n",
      "green           0.0          0.0           1.0\n",
      "square          0.5          0.0           0.5\n",
      "circle          0.0          1.0           0.0\n",
      "S1\n",
      "                  blue     green    square    circle\n",
      "blue square   0.500000  0.000000  0.500000  0.000000\n",
      "blue circle   0.333333  0.000000  0.000000  0.666667\n",
      "green square  0.000000  0.666667  0.333333  0.000000\n",
      "L1\n",
      "        blue square  blue circle  green square\n",
      "blue            0.6          0.4           0.0\n",
      "green           0.0          0.0           1.0\n",
      "square          0.6          0.0           0.4\n",
      "circle          0.0          1.0           0.0\n"
     ]
    }
   ],
   "source": [
    "RSA_pTables(1, l0)"
   ]
  },
  {
   "cell_type": "code",
   "execution_count": 228,
   "metadata": {},
   "outputs": [
    {
     "name": "stderr",
     "output_type": "stream",
     "text": [
      "Sampling: [pL1]\n"
     ]
    },
    {
     "name": "stdout",
     "output_type": "stream",
     "text": [
      "L0\n",
      "        blue square  blue circle  green square\n",
      "blue            0.5          0.5           0.0\n",
      "green           0.0          0.0           1.0\n",
      "square          0.5          0.0           0.5\n",
      "circle          0.0          1.0           0.0\n",
      "S1\n",
      "                  blue     green    square    circle\n",
      "blue square   0.500000  0.000000  0.500000  0.000000\n",
      "blue circle   0.000976  0.000000  0.000000  0.999024\n",
      "green square  0.000000  0.999024  0.000976  0.000000\n",
      "L1\n",
      "        blue square  blue circle  green square\n",
      "blue       0.998053     0.001947      0.000000\n",
      "green      0.000000     0.000000      1.000000\n",
      "square     0.998053     0.000000      0.001947\n",
      "circle     0.000000     1.000000      0.000000\n"
     ]
    }
   ],
   "source": [
    "# a more optimal speaker (e.g. alpha = 10)\n",
    "RSA_pTables(10, l0)"
   ]
  },
  {
   "cell_type": "markdown",
   "metadata": {},
   "source": [
    "Making the speaker more optimal makes speaker depend more on listener interpretation probabilities. As the $\\alpha$ value gets larger, the speaker behaves like a maximum-utility agent. In this case since $P_{L_0}(\\text{blue-circle} \\mid u)$ for $u=\\text{circle}$ is greater than $u=\\text{blue}$, and costs are simply zero, the utility maximizing utterance turns out to be $u=\\text{circle}$ for $S_1$. Note that for lower values of optimality parameter the speaker starts to choose utterances randomly."
   ]
  },
  {
   "cell_type": "code",
   "execution_count": 236,
   "metadata": {},
   "outputs": [],
   "source": [
    "# adding a new object\n",
    "objects = [\"blue square\", \"blue circle\", \"green square\", \"green circle\"]\n",
    "\n",
    "us = np.array([denotation(utr, objects) for utr in utterances])\n",
    "\n",
    "l0 = normalize(us, 1)"
   ]
  },
  {
   "cell_type": "code",
   "execution_count": 237,
   "metadata": {},
   "outputs": [
    {
     "name": "stderr",
     "output_type": "stream",
     "text": [
      "Sampling: [pL1]\n"
     ]
    },
    {
     "name": "stdout",
     "output_type": "stream",
     "text": [
      "L0\n",
      "        blue square  blue circle  green square  green circle\n",
      "blue            0.5          0.5           0.0           0.0\n",
      "green           0.0          0.0           0.5           0.5\n",
      "square          0.5          0.0           0.5           0.0\n",
      "circle          0.0          0.5           0.0           0.5\n",
      "S1\n",
      "              blue  green  square  circle\n",
      "blue square    0.5    0.0     0.5     0.0\n",
      "blue circle    0.5    0.0     0.0     0.5\n",
      "green square   0.0    0.5     0.5     0.0\n",
      "green circle   0.0    0.5     0.0     0.5\n",
      "L1\n",
      "        blue square  blue circle  green square  green circle\n",
      "blue            0.5          0.5           0.0           0.0\n",
      "green           0.0          0.0           0.5           0.5\n",
      "square          0.5          0.0           0.5           0.0\n",
      "circle          0.0          0.5           0.0           0.5\n"
     ]
    }
   ],
   "source": [
    "RSA_pTables(1, l0)"
   ]
  },
  {
   "cell_type": "code",
   "execution_count": 244,
   "metadata": {},
   "outputs": [
    {
     "data": {
      "text/html": [
       "<div>\n",
       "<style scoped>\n",
       "    .dataframe tbody tr th:only-of-type {\n",
       "        vertical-align: middle;\n",
       "    }\n",
       "\n",
       "    .dataframe tbody tr th {\n",
       "        vertical-align: top;\n",
       "    }\n",
       "\n",
       "    .dataframe thead th {\n",
       "        text-align: right;\n",
       "    }\n",
       "</style>\n",
       "<table border=\"1\" class=\"dataframe\">\n",
       "  <thead>\n",
       "    <tr style=\"text-align: right;\">\n",
       "      <th></th>\n",
       "      <th>blue square</th>\n",
       "      <th>blue circle</th>\n",
       "      <th>green square</th>\n",
       "      <th>green circle</th>\n",
       "    </tr>\n",
       "  </thead>\n",
       "  <tbody>\n",
       "    <tr>\n",
       "      <th>blue</th>\n",
       "      <td>0.5</td>\n",
       "      <td>0.5</td>\n",
       "      <td>0.0</td>\n",
       "      <td>0.0</td>\n",
       "    </tr>\n",
       "    <tr>\n",
       "      <th>green</th>\n",
       "      <td>0.0</td>\n",
       "      <td>0.0</td>\n",
       "      <td>0.5</td>\n",
       "      <td>0.5</td>\n",
       "    </tr>\n",
       "    <tr>\n",
       "      <th>square</th>\n",
       "      <td>0.5</td>\n",
       "      <td>0.0</td>\n",
       "      <td>0.5</td>\n",
       "      <td>0.0</td>\n",
       "    </tr>\n",
       "    <tr>\n",
       "      <th>circle</th>\n",
       "      <td>0.0</td>\n",
       "      <td>0.5</td>\n",
       "      <td>0.0</td>\n",
       "      <td>0.5</td>\n",
       "    </tr>\n",
       "    <tr>\n",
       "      <th>green square</th>\n",
       "      <td>0.0</td>\n",
       "      <td>0.0</td>\n",
       "      <td>1.0</td>\n",
       "      <td>0.0</td>\n",
       "    </tr>\n",
       "  </tbody>\n",
       "</table>\n",
       "</div>"
      ],
      "text/plain": [
       "              blue square  blue circle  green square  green circle\n",
       "blue                  0.5          0.5           0.0           0.0\n",
       "green                 0.0          0.0           0.5           0.5\n",
       "square                0.5          0.0           0.5           0.0\n",
       "circle                0.0          0.5           0.0           0.5\n",
       "green square          0.0          0.0           1.0           0.0"
      ]
     },
     "execution_count": 244,
     "metadata": {},
     "output_type": "execute_result"
    }
   ],
   "source": [
    "# adding a new multi-word utterance\n",
    "objects = [\"blue square\", \"blue circle\", \"green square\", \"green circle\"]\n",
    "utterances = [\"blue\", \"green\", \"square\", \"circle\", \"green square\"]\n",
    "\n",
    "us = np.array([denotation(utr, objects) for utr in utterances])\n",
    "\n",
    "l0 = normalize(us, 1)\n",
    "pd.DataFrame(l0, columns=objects, index=utterances)"
   ]
  },
  {
   "cell_type": "code",
   "execution_count": 246,
   "metadata": {},
   "outputs": [
    {
     "name": "stderr",
     "output_type": "stream",
     "text": [
      "Sampling: [pL1]\n"
     ]
    },
    {
     "name": "stdout",
     "output_type": "stream",
     "text": [
      "L0\n",
      "              blue square  blue circle  green square  green circle\n",
      "blue                  0.5          0.5           0.0           0.0\n",
      "green                 0.0          0.0           0.5           0.5\n",
      "square                0.5          0.0           0.5           0.0\n",
      "circle                0.0          0.5           0.0           0.5\n",
      "green square          0.0          0.0           1.0           0.0\n",
      "S1\n",
      "              blue  green  square  circle  green square\n",
      "blue square    0.5   0.00    0.50     0.0           0.0\n",
      "blue circle    0.5   0.00    0.00     0.5           0.0\n",
      "green square   0.0   0.25    0.25     0.0           0.5\n",
      "green circle   0.0   0.50    0.00     0.5           0.0\n",
      "L1\n",
      "              blue square  blue circle  green square  green circle\n",
      "blue             0.500000          0.5      0.000000      0.000000\n",
      "green            0.000000          0.0      0.333333      0.666667\n",
      "square           0.666667          0.0      0.333333      0.000000\n",
      "circle           0.000000          0.5      0.000000      0.500000\n",
      "green square     0.000000          0.0      1.000000      0.000000\n"
     ]
    }
   ],
   "source": [
    "cost_vec = np.array([cost(u) for u in utterances]).reshape(len(utterances), 1)\n",
    "RSA_pTables(1, l0)"
   ]
  },
  {
   "cell_type": "markdown",
   "metadata": {},
   "source": [
    "Blue cannot refer to something green because denotation function does not allow it."
   ]
  }
 ],
 "metadata": {
  "kernelspec": {
   "display_name": "pymc_env",
   "language": "python",
   "name": "python3"
  },
  "language_info": {
   "codemirror_mode": {
    "name": "ipython",
    "version": 3
   },
   "file_extension": ".py",
   "mimetype": "text/x-python",
   "name": "python",
   "nbconvert_exporter": "python",
   "pygments_lexer": "ipython3",
   "version": "3.12.7"
  }
 },
 "nbformat": 4,
 "nbformat_minor": 2
}
